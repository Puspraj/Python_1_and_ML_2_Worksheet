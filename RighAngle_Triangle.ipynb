{
 "cells": [
  {
   "cell_type": "code",
   "execution_count": 5,
   "metadata": {},
   "outputs": [
    {
     "name": "stdout",
     "output_type": "stream",
     "text": [
      "Hypotenuse = 1.0\n",
      "Bredth = 23.0\n",
      "length = 22.0\n",
      "We get the result\n"
     ]
    }
   ],
   "source": [
    "def RightAngleTringle(length,bredth,hypotenuse):\n",
    "    if length == str('x'):\n",
    "        return (\"length = \" + str((hypotenuse**2)-(bredth**2)**0.5))\n",
    "    elif bredth == str('x'):\n",
    "        return (\"Bredth = \" + str((hypotenuse**2)-(length**2)**0.5))\n",
    "    elif hypotenuse == str('x'):\n",
    "        return ('Hypotenuse = ' + str((length**2)-(bredth**2)**0.5))\n",
    "    else:\n",
    "        return \"We get the result\"\n",
    "print(RightAngleTringle(2,3,'x'))\n",
    "print(RightAngleTringle(2,'x',5))\n",
    "print(RightAngleTringle('x',3,5))\n",
    "print(RightAngleTringle(2,3,5))"
   ]
  },
  {
   "cell_type": "code",
   "execution_count": null,
   "metadata": {},
   "outputs": [],
   "source": []
  }
 ],
 "metadata": {
  "kernelspec": {
   "display_name": "Python 3",
   "language": "python",
   "name": "python3"
  },
  "language_info": {
   "codemirror_mode": {
    "name": "ipython",
    "version": 3
   },
   "file_extension": ".py",
   "mimetype": "text/x-python",
   "name": "python",
   "nbconvert_exporter": "python",
   "pygments_lexer": "ipython3",
   "version": "3.7.4"
  }
 },
 "nbformat": 4,
 "nbformat_minor": 2
}
