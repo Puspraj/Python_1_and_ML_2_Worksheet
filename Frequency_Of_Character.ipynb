{
 "cells": [
  {
   "cell_type": "code",
   "execution_count": 1,
   "metadata": {},
   "outputs": [
    {
     "name": "stdout",
     "output_type": "stream",
     "text": [
      "Enter the character: PUSPRAJ\n",
      "Frequency of this character.{'P': 2, 'U': 1, 'S': 1, 'R': 1, 'A': 1, 'J': 1}\n"
     ]
    }
   ],
   "source": [
    "character=input('Enter the character: ')\n",
    "\n",
    "all_freq = {}\n",
    "\n",
    "for i in character:\n",
    "    if i in all_freq:\n",
    "        all_freq[i] += 1\n",
    "    else:\n",
    "        all_freq[i] = 1\n",
    "print('Frequency of this character.'+str(all_freq))"
   ]
  },
  {
   "cell_type": "code",
   "execution_count": null,
   "metadata": {},
   "outputs": [],
   "source": []
  }
 ],
 "metadata": {
  "kernelspec": {
   "display_name": "Python 3",
   "language": "python",
   "name": "python3"
  },
  "language_info": {
   "codemirror_mode": {
    "name": "ipython",
    "version": 3
   },
   "file_extension": ".py",
   "mimetype": "text/x-python",
   "name": "python",
   "nbconvert_exporter": "python",
   "pygments_lexer": "ipython3",
   "version": "3.7.4"
  }
 },
 "nbformat": 4,
 "nbformat_minor": 2
}
